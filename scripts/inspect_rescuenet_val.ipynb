{
 "cells": [
  {
   "cell_type": "code",
   "execution_count": 10,
   "metadata": {},
   "outputs": [],
   "source": [
    "import json\n",
    "import os\n",
    "import cv2\n",
    "import sys\n",
    "sys.path.append('../')"
   ]
  },
  {
   "cell_type": "code",
   "execution_count": 2,
   "metadata": {},
   "outputs": [],
   "source": [
    "from agents.environment.tools import count_connected_components"
   ]
  },
  {
   "cell_type": "code",
   "execution_count": 15,
   "metadata": {},
   "outputs": [],
   "source": [
    "objs = [json.loads(l) for l in open('../rescuenet_regen_plus_det/rescuenet_agent_train_10k.jsonl', 'r').readlines()]\n",
    "objs = [json.loads(l) for l in open('../rescuenet_regen_plus_det/rescuenet_agent_val_1k.jsonl', 'r').readlines()]\n",
    "\n",
    "class_casual_names = [\n",
    "    'water',\n",
    "    'building without damage',\n",
    "    'building with minor damage',\n",
    "    'building with major damage',\n",
    "    'building with total destruction',\n",
    "    'vehicle',\n",
    "    'clear road',\n",
    "    'blocked road',\n",
    "    'tree',\n",
    "    'pool',\n",
    "]"
   ]
  },
  {
   "cell_type": "code",
   "execution_count": 16,
   "metadata": {},
   "outputs": [
    {
     "name": "stdout",
     "output_type": "stream",
     "text": [
      "[198, 168, 167, 98, 58, 117, 106, 117, 133]\n",
      "1162\n"
     ]
    }
   ],
   "source": [
    "counts = [0] * 9\n",
    "\n",
    "for obj in objs:\n",
    "    type = obj['type']\n",
    "    label_path = obj['label']\n",
    "    \n",
    "    \n",
    "    casual_name = ''\n",
    "    for casual_name in class_casual_names:\n",
    "        if casual_name in obj['instruction']:\n",
    "            break\n",
    "    \n",
    "    if (type == 'det'):\n",
    "        counts[0] += 1\n",
    "        continue\n",
    "    if (type == 'seg'):\n",
    "        counts[1] += 1\n",
    "        continue\n",
    "\n",
    "    if (type == 'existence'):\n",
    "        if ('building' in casual_name):\n",
    "            counts[3] += 1\n",
    "        else:\n",
    "            counts[2] += 1\n",
    "        continue\n",
    "    if (type == 'counting'):\n",
    "        if ('building' in casual_name):\n",
    "            counts[5] += 1\n",
    "        else:\n",
    "            counts[4] += 1\n",
    "        continue\n",
    "    if (type == 'area'):\n",
    "        if ('building' in casual_name):\n",
    "            counts[7] += 1\n",
    "        else:\n",
    "            counts[6] += 1\n",
    "        continue\n",
    "    if (type == 'connectivity'):\n",
    "        counts[8] += 1\n",
    "        continue\n",
    "\n",
    "print(counts)\n",
    "print(sum(counts))"
   ]
  },
  {
   "cell_type": "code",
   "execution_count": null,
   "metadata": {},
   "outputs": [],
   "source": []
  }
 ],
 "metadata": {
  "kernelspec": {
   "display_name": "py38t19",
   "language": "python",
   "name": "python3"
  },
  "language_info": {
   "codemirror_mode": {
    "name": "ipython",
    "version": 3
   },
   "file_extension": ".py",
   "mimetype": "text/x-python",
   "name": "python",
   "nbconvert_exporter": "python",
   "pygments_lexer": "ipython3",
   "version": "3.8.12"
  }
 },
 "nbformat": 4,
 "nbformat_minor": 2
}
