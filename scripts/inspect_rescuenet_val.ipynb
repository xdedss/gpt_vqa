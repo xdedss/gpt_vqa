{
 "cells": [
  {
   "cell_type": "code",
   "execution_count": 12,
   "metadata": {},
   "outputs": [],
   "source": [
    "import json\n",
    "import os\n",
    "import cv2\n",
    "import sys\n",
    "sys.path.append('../')"
   ]
  },
  {
   "cell_type": "code",
   "execution_count": 13,
   "metadata": {},
   "outputs": [],
   "source": [
    "from agents.environment.tools import count_connected_components"
   ]
  },
  {
   "cell_type": "code",
   "execution_count": 17,
   "metadata": {},
   "outputs": [],
   "source": [
    "objs = [json.loads(l) for l in open('../rescuenet_agent_val_small.jsonl', 'r').readlines()]\n",
    "\n",
    "class_casual_names = [\n",
    "    'water',\n",
    "    'building without damage',\n",
    "    'building with minor damage',\n",
    "    'building with major damage',\n",
    "    'building with total destruction',\n",
    "    'vehicle',\n",
    "    'clear road',\n",
    "    'blocked road',\n",
    "    'tree',\n",
    "    'pool',\n",
    "]"
   ]
  },
  {
   "cell_type": "code",
   "execution_count": 18,
   "metadata": {},
   "outputs": [
    {
     "name": "stdout",
     "output_type": "stream",
     "text": [
      "[1187, 532, 371, 354, 715, 513]\n",
      "3672\n"
     ]
    },
    {
     "ename": "",
     "evalue": "",
     "output_type": "error",
     "traceback": [
      "\u001b[1;31mThe Kernel crashed while executing code in the current cell or a previous cell. \n",
      "\u001b[1;31mPlease review the code in the cell(s) to identify a possible cause of the failure. \n",
      "\u001b[1;31mClick <a href='https://aka.ms/vscodeJupyterKernelCrash'>here</a> for more info. \n",
      "\u001b[1;31mView Jupyter <a href='command:jupyter.viewOutput'>log</a> for further details."
     ]
    }
   ],
   "source": [
    "counts = [0] * 7\n",
    "\n",
    "for obj in objs:\n",
    "    type = obj['type']\n",
    "    label_path = obj['label']\n",
    "    \n",
    "    \n",
    "    casual_name = ''\n",
    "    for casual_name in class_casual_names:\n",
    "        if casual_name in obj['instruction']:\n",
    "            break\n",
    "    \n",
    "    if (type == 'seg'):\n",
    "        counts[0] += 1\n",
    "        continue\n",
    "\n",
    "    if (type == 'existence'):\n",
    "        if ('building' in casual_name):\n",
    "            counts[2] += 1\n",
    "        else:\n",
    "            counts[1] += 1\n",
    "        continue\n",
    "    if (type == 'counting'):\n",
    "        if ('building' in casual_name):\n",
    "            counts[4] += 1\n",
    "        else:\n",
    "            counts[3] += 1\n",
    "        continue\n",
    "    if (type == 'connectivity'):\n",
    "        counts[5] += 1\n",
    "        continue\n",
    "    if (type == 'area'):\n",
    "        counts[6] += 1\n",
    "        continue\n",
    "\n",
    "print(counts)\n",
    "print(sum(counts))"
   ]
  },
  {
   "cell_type": "code",
   "execution_count": null,
   "metadata": {},
   "outputs": [],
   "source": []
  }
 ],
 "metadata": {
  "kernelspec": {
   "display_name": "py38t19",
   "language": "python",
   "name": "python3"
  },
  "language_info": {
   "codemirror_mode": {
    "name": "ipython",
    "version": 3
   },
   "file_extension": ".py",
   "mimetype": "text/x-python",
   "name": "python",
   "nbconvert_exporter": "python",
   "pygments_lexer": "ipython3",
   "version": "3.8.12"
  }
 },
 "nbformat": 4,
 "nbformat_minor": 2
}
